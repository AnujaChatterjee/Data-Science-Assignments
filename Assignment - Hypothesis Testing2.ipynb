{
 "cells": [
  {
   "cell_type": "markdown",
   "id": "74215d7b",
   "metadata": {},
   "source": [
    "Customer + Order Form Dataset"
   ]
  },
  {
   "cell_type": "code",
   "execution_count": 1,
   "id": "8a2ddf36",
   "metadata": {},
   "outputs": [],
   "source": [
    "import pandas as pd\n",
    "import numpy as np\n",
    "from scipy import stats"
   ]
  },
  {
   "cell_type": "markdown",
   "id": "d29813bc",
   "metadata": {},
   "source": [
    "# Problem Statement :"
   ]
  },
  {
   "cell_type": "markdown",
   "id": "c124d7a1",
   "metadata": {},
   "source": [
    "TeleCall uses 4 centers around the globe to process customer order forms. They audit a certain % of the customer order forms. Any error in order form renders it defective and has to be reworked before processing. The manager wants to check whether the defective % varies by centre. Please analyze the data at 5% significance level and help the manager draw appropriate inferences"
   ]
  },
  {
   "cell_type": "markdown",
   "id": "f3c4633c",
   "metadata": {},
   "source": [
    "# 1 - Business Problem"
   ]
  },
  {
   "cell_type": "markdown",
   "id": "0474a5a7",
   "metadata": {},
   "source": [
    "Does the defective % varies significantly by centre ?"
   ]
  },
  {
   "cell_type": "markdown",
   "id": "9ceca39e",
   "metadata": {},
   "source": [
    "# 2 - Data description"
   ]
  },
  {
   "cell_type": "markdown",
   "id": "ca15bd57",
   "metadata": {},
   "source": [
    "α == 0.05 (95% Confidence)"
   ]
  },
  {
   "cell_type": "markdown",
   "id": "eb35379e",
   "metadata": {},
   "source": [
    "Y == Discrete\n",
    "\n",
    "X == Discrete\n",
    "\n",
    "Since there are more than 2 variable we will perform Chi-Square test"
   ]
  },
  {
   "cell_type": "markdown",
   "id": "3bf1407f",
   "metadata": {},
   "source": [
    "# 3 - Chi-Square Test"
   ]
  },
  {
   "cell_type": "code",
   "execution_count": 3,
   "id": "3eff46de",
   "metadata": {},
   "outputs": [],
   "source": [
    "df = pd.read_csv(\"C:/Users/Prabinkp/Desktop/ASSIGNEMNETS_DS/Costomer+OrderForm.csv\")"
   ]
  },
  {
   "cell_type": "markdown",
   "id": "86e21852",
   "metadata": {},
   "source": [
    "H0 == The defective % does not varies by centre\n",
    "\n",
    "H1 == The defective % does varies by centre"
   ]
  },
  {
   "cell_type": "code",
   "execution_count": 4,
   "id": "840671bf",
   "metadata": {},
   "outputs": [
    {
     "data": {
      "text/plain": [
       "(3.8589606858203545,\n",
       " 0.2771020991233144,\n",
       " 3,\n",
       " array([[271.75,  28.25],\n",
       "        [271.75,  28.25],\n",
       "        [271.75,  28.25],\n",
       "        [271.75,  28.25]]))"
      ]
     },
     "execution_count": 4,
     "metadata": {},
     "output_type": "execute_result"
    }
   ],
   "source": [
    "stats.chi2_contingency([df['Phillippines'].value_counts(), df['Indonesia'].value_counts(), df['Malta'].value_counts(), df['India'].value_counts()])"
   ]
  },
  {
   "cell_type": "markdown",
   "id": "d7b1c3c6",
   "metadata": {},
   "source": [
    "P value of Chi-Square test == 0.277 > α"
   ]
  },
  {
   "cell_type": "markdown",
   "id": "8a3ea3e2",
   "metadata": {},
   "source": [
    "# Thus HO is accepted.\n",
    "\n",
    "The defective % does not varies significantly by centres"
   ]
  },
  {
   "cell_type": "code",
   "execution_count": null,
   "id": "503ee290",
   "metadata": {},
   "outputs": [],
   "source": []
  }
 ],
 "metadata": {
  "kernelspec": {
   "display_name": "Python 3 (ipykernel)",
   "language": "python",
   "name": "python3"
  },
  "language_info": {
   "codemirror_mode": {
    "name": "ipython",
    "version": 3
   },
   "file_extension": ".py",
   "mimetype": "text/x-python",
   "name": "python",
   "nbconvert_exporter": "python",
   "pygments_lexer": "ipython3",
   "version": "3.9.12"
  }
 },
 "nbformat": 4,
 "nbformat_minor": 5
}
