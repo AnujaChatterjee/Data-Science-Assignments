{
 "cells": [
  {
   "cell_type": "markdown",
   "id": "e9926806",
   "metadata": {},
   "source": [
    "Cutlets Dataset"
   ]
  },
  {
   "cell_type": "code",
   "execution_count": 1,
   "id": "570a97aa",
   "metadata": {},
   "outputs": [],
   "source": [
    "import pandas as pd\n",
    "import numpy as np\n",
    "from scipy import stats"
   ]
  },
  {
   "cell_type": "markdown",
   "id": "86d07fc0",
   "metadata": {},
   "source": [
    "# Problem Statement :\n",
    "    \n",
    "A F&B manager wants to determine whether there is any significant difference in the diameter of the cutlet between two units. A randomly selected sample of cutlets was collected from both units and measured? Analyze the data and draw inferences at 5% significance level. Please state the assumptions and tests that you carried out to check validity of the assumptions"
   ]
  },
  {
   "cell_type": "markdown",
   "id": "925997b7",
   "metadata": {},
   "source": [
    "# 1 - Business Problem\n",
    "\n",
    "Is there significant difference in the diameter of the cutlet ?"
   ]
  },
  {
   "cell_type": "markdown",
   "id": "3be92f91",
   "metadata": {},
   "source": [
    "# 2 - Data description\n",
    "\n",
    "α == 0.05 (95% Confidence)\n",
    "\n",
    "Y == Continious\n",
    "\n",
    "X == Discrete\n",
    "\n",
    "Is Y1 and Y2 normal ?\n",
    "\n",
    "H0 = Y1 and Y2 are normal\n",
    "\n",
    "H1 = Y1 and Y2 are not normal"
   ]
  },
  {
   "cell_type": "markdown",
   "id": "1484fe66",
   "metadata": {},
   "source": [
    "# 3 - Normality Test"
   ]
  },
  {
   "cell_type": "code",
   "execution_count": 2,
   "id": "fc633c2e",
   "metadata": {},
   "outputs": [],
   "source": [
    "df = pd.read_csv(\"C:/Users/Prabinkp/Desktop/ASSIGNEMNETS_DS/Cutlets.csv\")"
   ]
  },
  {
   "cell_type": "code",
   "execution_count": 3,
   "id": "84344d00",
   "metadata": {},
   "outputs": [
    {
     "data": {
      "text/plain": [
       "ShapiroResult(statistic=0.9649458527565002, pvalue=0.3199819028377533)"
      ]
     },
     "execution_count": 3,
     "metadata": {},
     "output_type": "execute_result"
    }
   ],
   "source": [
    "stats.shapiro(df[\"Unit A\"])"
   ]
  },
  {
   "cell_type": "markdown",
   "id": "bd1081ec",
   "metadata": {},
   "source": [
    "P value for Unit A == 0.32 > α"
   ]
  },
  {
   "cell_type": "code",
   "execution_count": 4,
   "id": "0ee0ea66",
   "metadata": {},
   "outputs": [
    {
     "data": {
      "text/plain": [
       "ShapiroResult(statistic=0.9727300405502319, pvalue=0.5224985480308533)"
      ]
     },
     "execution_count": 4,
     "metadata": {},
     "output_type": "execute_result"
    }
   ],
   "source": [
    "stats.shapiro(df[\"Unit B\"])"
   ]
  },
  {
   "cell_type": "markdown",
   "id": "1495f293",
   "metadata": {},
   "source": [
    "P value for Unit B == 0.52 > α"
   ]
  },
  {
   "cell_type": "markdown",
   "id": "a1cb0338",
   "metadata": {},
   "source": [
    "HO is accepted. Thats is both Y1 and Y2 are normal"
   ]
  },
  {
   "cell_type": "markdown",
   "id": "b0be997f",
   "metadata": {},
   "source": [
    "# 4 - External Condition\n",
    "\n",
    "External condition are same.\n",
    "Thus we can perform Paired T Test"
   ]
  },
  {
   "cell_type": "markdown",
   "id": "586f5a54",
   "metadata": {},
   "source": [
    "# 5 - Model"
   ]
  },
  {
   "cell_type": "markdown",
   "id": "20d7722f",
   "metadata": {},
   "source": [
    "H0 == Mean for Y1 and Y2 are equal (There is no significance difference between diameter of the Cutlets)\n",
    "\n",
    "H1 == Mean for Y1 and Y2 are not equal (There is a significance difference between diameter of the Cutlets)"
   ]
  },
  {
   "cell_type": "code",
   "execution_count": 5,
   "id": "c8395c92",
   "metadata": {},
   "outputs": [
    {
     "data": {
      "text/plain": [
       "Ttest_relResult(statistic=0.7536787225614314, pvalue=0.4562300768038412)"
      ]
     },
     "execution_count": 5,
     "metadata": {},
     "output_type": "execute_result"
    }
   ],
   "source": [
    "stats.ttest_rel(df[\"Unit A\"], df[\"Unit B\"])"
   ]
  },
  {
   "cell_type": "markdown",
   "id": "32ecc06f",
   "metadata": {},
   "source": [
    "Ttest_relResult(statistic=0.7536787225614323, pvalue=0.45623007680384076)\n",
    "\n",
    "P value of the Paired T Test is == 0.45 > α"
   ]
  },
  {
   "cell_type": "markdown",
   "id": "adf6f1fc",
   "metadata": {},
   "source": [
    "# Thus H0 is accepted.\n",
    "Mean of both Y1 and Y2 are equal"
   ]
  },
  {
   "cell_type": "code",
   "execution_count": null,
   "id": "638e3965",
   "metadata": {},
   "outputs": [],
   "source": []
  }
 ],
 "metadata": {
  "kernelspec": {
   "display_name": "Python 3 (ipykernel)",
   "language": "python",
   "name": "python3"
  },
  "language_info": {
   "codemirror_mode": {
    "name": "ipython",
    "version": 3
   },
   "file_extension": ".py",
   "mimetype": "text/x-python",
   "name": "python",
   "nbconvert_exporter": "python",
   "pygments_lexer": "ipython3",
   "version": "3.9.12"
  }
 },
 "nbformat": 4,
 "nbformat_minor": 5
}
