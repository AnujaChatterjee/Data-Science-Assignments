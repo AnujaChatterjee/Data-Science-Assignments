{
 "cells": [
  {
   "cell_type": "markdown",
   "id": "9427f56e",
   "metadata": {},
   "source": [
    "BuyerRatio Dataset"
   ]
  },
  {
   "cell_type": "code",
   "execution_count": 1,
   "id": "9cfb1b5b",
   "metadata": {},
   "outputs": [],
   "source": [
    "import pandas as pd\n",
    "import numpy as np\n",
    "from scipy import stats"
   ]
  },
  {
   "cell_type": "markdown",
   "id": "792bb80b",
   "metadata": {},
   "source": [
    "# Problem Statement :"
   ]
  },
  {
   "cell_type": "markdown",
   "id": "0fd496c3",
   "metadata": {},
   "source": [
    "Sales of products in four different regions is tabulated for males and females. Find if male-female buyer rations are similar across regions"
   ]
  },
  {
   "cell_type": "markdown",
   "id": "ebb9a3db",
   "metadata": {},
   "source": [
    "# 1 - Business Problem"
   ]
  },
  {
   "cell_type": "markdown",
   "id": "405faf36",
   "metadata": {},
   "source": [
    "Is the male-female buyer rations are similar across regions"
   ]
  },
  {
   "cell_type": "markdown",
   "id": "6e444068",
   "metadata": {},
   "source": [
    "# 2 - Data description"
   ]
  },
  {
   "cell_type": "markdown",
   "id": "06a27dad",
   "metadata": {},
   "source": [
    "α == 0.05 (95% Confidence)\n",
    "\n",
    "Y == Discrete\n",
    "X == Discrete\n",
    "\n",
    "Since there are more than 2 variable we will perform Chi-Square test"
   ]
  },
  {
   "cell_type": "markdown",
   "id": "f1bf6208",
   "metadata": {},
   "source": [
    "# 3 - Chi-Square Test"
   ]
  },
  {
   "cell_type": "code",
   "execution_count": 3,
   "id": "e6a9d178",
   "metadata": {},
   "outputs": [],
   "source": [
    "df = pd.read_csv(\"C:/Users/Prabinkp/Desktop/ASSIGNEMNETS_DS/BuyerRatio.csv\")"
   ]
  },
  {
   "cell_type": "markdown",
   "id": "73583fc2",
   "metadata": {},
   "source": [
    "H0 == The male-female buyer rations are similar across regions\n",
    "\n",
    "\n",
    "H1 == The male-female buyer rations are not similar across regions"
   ]
  },
  {
   "cell_type": "code",
   "execution_count": 4,
   "id": "c12134fe",
   "metadata": {},
   "outputs": [
    {
     "data": {
      "text/plain": [
       "(1.5959455386610577,\n",
       " 0.6603094907091882,\n",
       " 3,\n",
       " array([[  42.76531299,  442.23468701],\n",
       "        [ 146.81287862, 1518.18712138],\n",
       "        [ 131.11756787, 1355.88243213],\n",
       "        [  72.30424052,  747.69575948]]))"
      ]
     },
     "execution_count": 4,
     "metadata": {},
     "output_type": "execute_result"
    }
   ],
   "source": [
    "stats.chi2_contingency([df[\"East\"], df[\"West\"], df[\"North\"], df[\"South\"]])"
   ]
  },
  {
   "cell_type": "markdown",
   "id": "ada1553b",
   "metadata": {},
   "source": [
    "P value of Chi-Square test == 0.66 > α"
   ]
  },
  {
   "cell_type": "markdown",
   "id": "69be440f",
   "metadata": {},
   "source": [
    "# Thus HO is accepted."
   ]
  },
  {
   "cell_type": "markdown",
   "id": "7c25ecaa",
   "metadata": {},
   "source": [
    "# The male-female buyer rations are similar across regions"
   ]
  },
  {
   "cell_type": "code",
   "execution_count": null,
   "id": "05797dd5",
   "metadata": {},
   "outputs": [],
   "source": []
  }
 ],
 "metadata": {
  "kernelspec": {
   "display_name": "Python 3 (ipykernel)",
   "language": "python",
   "name": "python3"
  },
  "language_info": {
   "codemirror_mode": {
    "name": "ipython",
    "version": 3
   },
   "file_extension": ".py",
   "mimetype": "text/x-python",
   "name": "python",
   "nbconvert_exporter": "python",
   "pygments_lexer": "ipython3",
   "version": "3.9.12"
  }
 },
 "nbformat": 4,
 "nbformat_minor": 5
}
